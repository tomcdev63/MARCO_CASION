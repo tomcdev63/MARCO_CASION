{
 "cells": [
  {
   "cell_type": "markdown",
   "metadata": {},
   "source": [
    "# **E2 - Projet Cars 🚗 - CLEANING**"
   ]
  },
  {
   "cell_type": "markdown",
   "metadata": {},
   "source": [
    "## **Import des librairies 📕**"
   ]
  },
  {
   "cell_type": "code",
   "execution_count": 11,
   "metadata": {},
   "outputs": [],
   "source": [
    "import pandas as pd \n",
    "import numpy as np \n",
    "import sqlite3 as sql\n",
    "import warnings\n",
    "warnings.filterwarnings(\"ignore\")\n",
    "\n",
    "from bdd_sql_manager import SqlManager"
   ]
  },
  {
   "cell_type": "markdown",
   "metadata": {},
   "source": [
    "## **Connection à la base de donnée via sqlite3 📁**"
   ]
  },
  {
   "cell_type": "code",
   "execution_count": 12,
   "metadata": {},
   "outputs": [],
   "source": [
    "DATABASE = r\"../../data/data.db\""
   ]
  },
  {
   "cell_type": "code",
   "execution_count": 13,
   "metadata": {},
   "outputs": [
    {
     "name": "stdout",
     "output_type": "stream",
     "text": [
      "Connexion réussie à SQLite\n",
      "BDD importée\n",
      "<class 'pandas.core.frame.DataFrame'>\n",
      "RangeIndex: 7201 entries, 0 to 7200\n",
      "Data columns (total 12 columns):\n",
      " #   Column             Non-Null Count  Dtype \n",
      "---  ------             --------------  ----- \n",
      " 0   Name               7201 non-null   object\n",
      " 1   Year               7201 non-null   int64 \n",
      " 2   Owner_Type         7201 non-null   object\n",
      " 3   Seats              7201 non-null   int64 \n",
      " 4   Kilometers_Driven  7201 non-null   object\n",
      " 5   Fuel_Type          7201 non-null   object\n",
      " 6   Transmission       7201 non-null   object\n",
      " 7   Mileage            7201 non-null   object\n",
      " 8   Engine             7201 non-null   object\n",
      " 9   Power              7201 non-null   object\n",
      " 10  Price              7201 non-null   object\n",
      " 11  IsTrain            7201 non-null   int64 \n",
      "dtypes: int64(3), object(9)\n",
      "memory usage: 675.2+ KB\n",
      "None\n"
     ]
    },
    {
     "data": {
      "text/html": [
       "<div>\n",
       "<style scoped>\n",
       "    .dataframe tbody tr th:only-of-type {\n",
       "        vertical-align: middle;\n",
       "    }\n",
       "\n",
       "    .dataframe tbody tr th {\n",
       "        vertical-align: top;\n",
       "    }\n",
       "\n",
       "    .dataframe thead th {\n",
       "        text-align: right;\n",
       "    }\n",
       "</style>\n",
       "<table border=\"1\" class=\"dataframe\">\n",
       "  <thead>\n",
       "    <tr style=\"text-align: right;\">\n",
       "      <th></th>\n",
       "      <th>Name</th>\n",
       "      <th>Year</th>\n",
       "      <th>Owner_Type</th>\n",
       "      <th>Seats</th>\n",
       "      <th>Kilometers_Driven</th>\n",
       "      <th>Fuel_Type</th>\n",
       "      <th>Transmission</th>\n",
       "      <th>Mileage</th>\n",
       "      <th>Engine</th>\n",
       "      <th>Power</th>\n",
       "      <th>Price</th>\n",
       "      <th>IsTrain</th>\n",
       "    </tr>\n",
       "  </thead>\n",
       "  <tbody>\n",
       "    <tr>\n",
       "      <th>0</th>\n",
       "      <td>Maruti Wagon R LXI CNG</td>\n",
       "      <td>2010</td>\n",
       "      <td>First</td>\n",
       "      <td>5</td>\n",
       "      <td>72000</td>\n",
       "      <td>CNG</td>\n",
       "      <td>Manual</td>\n",
       "      <td>26.6 km/kg</td>\n",
       "      <td>998 CC</td>\n",
       "      <td>58.16 bhp</td>\n",
       "      <td>1.75</td>\n",
       "      <td>1</td>\n",
       "    </tr>\n",
       "    <tr>\n",
       "      <th>1</th>\n",
       "      <td>Hyundai Creta 1.6 CRDi SX Option</td>\n",
       "      <td>2015</td>\n",
       "      <td>First</td>\n",
       "      <td>5</td>\n",
       "      <td>41000</td>\n",
       "      <td>Diesel</td>\n",
       "      <td>Manual</td>\n",
       "      <td>19.67 kmpl</td>\n",
       "      <td>1582 CC</td>\n",
       "      <td>126.2 bhp</td>\n",
       "      <td>12.5</td>\n",
       "      <td>1</td>\n",
       "    </tr>\n",
       "    <tr>\n",
       "      <th>2</th>\n",
       "      <td>Honda Jazz V</td>\n",
       "      <td>2011</td>\n",
       "      <td>First</td>\n",
       "      <td>5</td>\n",
       "      <td>46000</td>\n",
       "      <td>Petrol</td>\n",
       "      <td>Manual</td>\n",
       "      <td>18.2 kmpl</td>\n",
       "      <td>1199 CC</td>\n",
       "      <td>88.7 bhp</td>\n",
       "      <td>4.5</td>\n",
       "      <td>1</td>\n",
       "    </tr>\n",
       "    <tr>\n",
       "      <th>3</th>\n",
       "      <td>Maruti Ertiga VDI</td>\n",
       "      <td>2012</td>\n",
       "      <td>First</td>\n",
       "      <td>7</td>\n",
       "      <td>87000</td>\n",
       "      <td>Diesel</td>\n",
       "      <td>Manual</td>\n",
       "      <td>20.77 kmpl</td>\n",
       "      <td>1248 CC</td>\n",
       "      <td>88.76 bhp</td>\n",
       "      <td>6.0</td>\n",
       "      <td>1</td>\n",
       "    </tr>\n",
       "    <tr>\n",
       "      <th>4</th>\n",
       "      <td>Audi A4 New 2.0 TDI Multitronic</td>\n",
       "      <td>2013</td>\n",
       "      <td>Second</td>\n",
       "      <td>5</td>\n",
       "      <td>40670</td>\n",
       "      <td>Diesel</td>\n",
       "      <td>Automatic</td>\n",
       "      <td>15.2 kmpl</td>\n",
       "      <td>1968 CC</td>\n",
       "      <td>140.8 bhp</td>\n",
       "      <td>17.74</td>\n",
       "      <td>1</td>\n",
       "    </tr>\n",
       "  </tbody>\n",
       "</table>\n",
       "</div>"
      ],
      "text/plain": [
       "                               Name  Year Owner_Type  Seats Kilometers_Driven  \\\n",
       "0            Maruti Wagon R LXI CNG  2010      First      5             72000   \n",
       "1  Hyundai Creta 1.6 CRDi SX Option  2015      First      5             41000   \n",
       "2                      Honda Jazz V  2011      First      5             46000   \n",
       "3                 Maruti Ertiga VDI  2012      First      7             87000   \n",
       "4   Audi A4 New 2.0 TDI Multitronic  2013     Second      5             40670   \n",
       "\n",
       "  Fuel_Type Transmission     Mileage   Engine      Power  Price  IsTrain  \n",
       "0       CNG       Manual  26.6 km/kg   998 CC  58.16 bhp   1.75        1  \n",
       "1    Diesel       Manual  19.67 kmpl  1582 CC  126.2 bhp   12.5        1  \n",
       "2    Petrol       Manual   18.2 kmpl  1199 CC   88.7 bhp    4.5        1  \n",
       "3    Diesel       Manual  20.77 kmpl  1248 CC  88.76 bhp    6.0        1  \n",
       "4    Diesel    Automatic   15.2 kmpl  1968 CC  140.8 bhp  17.74        1  "
      ]
     },
     "execution_count": 13,
     "metadata": {},
     "output_type": "execute_result"
    }
   ],
   "source": [
    "sql_manager  = SqlManager(DATABASE)\n",
    "data_global = sql_manager.select_dataset()\n",
    "\n",
    "data = data_global.copy()\n",
    "print(data.info())\n",
    "data.head()"
   ]
  },
  {
   "cell_type": "markdown",
   "metadata": {},
   "source": [
    "## **Nettoyage des données** 🧹"
   ]
  },
  {
   "cell_type": "code",
   "execution_count": 14,
   "metadata": {},
   "outputs": [],
   "source": [
    "data[\"Name\"] = [str(x).replace(\"Maruti\",\"Suzuki\")for x in data[\"Name\"]]"
   ]
  },
  {
   "cell_type": "markdown",
   "metadata": {},
   "source": [
    "##### *En observant mon jeu de données de plus près, je constate que la feature Mileage possède plusieurs unités (km/kg et kmpl), celles-ci diffèrent en fonction du type de carburant utilisé :*\n",
    "\n",
    "##### * *CNG --> km/kg* \n",
    "##### * *Diesel --> kmpl* \n",
    "##### * *Petrol --> kmpl*  \n",
    "##### * *LPG --> km/kg*  \n",
    "##### * *Electric --> \"\"\"\"*"
   ]
  },
  {
   "cell_type": "code",
   "execution_count": 15,
   "metadata": {},
   "outputs": [
    {
     "data": {
      "text/plain": [
       "Diesel      3838\n",
       "Petrol      3287\n",
       "CNG           62\n",
       "LPG           12\n",
       "Electric       2\n",
       "Name: Fuel_Type, dtype: int64"
      ]
     },
     "execution_count": 15,
     "metadata": {},
     "output_type": "execute_result"
    }
   ],
   "source": [
    "data[\"Fuel_Type\"].value_counts()"
   ]
  },
  {
   "cell_type": "markdown",
   "metadata": {},
   "source": [
    "##### *Il y a très peu de voitures roulantes au CNG, LPG et seulement 2 voitures électriques. Afin d'être le plus représentatif possible vis à vis de ma distribution de voiture, je prends le choix de supprimer toutes ces lignes (76), ce qui affecte globalement peu mon Dataframe qui possède 7201 lignes*"
   ]
  },
  {
   "cell_type": "code",
   "execution_count": 16,
   "metadata": {},
   "outputs": [],
   "source": [
    "data = data[data[\"Fuel_Type\"].str.contains(\"CNG|LPG|Electric\") == False]"
   ]
  },
  {
   "cell_type": "markdown",
   "metadata": {},
   "source": [
    "##### *Afin de mieux pouvoir exploiter mes données, je souhaite à présent enlever les unités derrière chaque valeur concernant les features Mileage, Engine et Power*"
   ]
  },
  {
   "cell_type": "code",
   "execution_count": 17,
   "metadata": {},
   "outputs": [
    {
     "data": {
      "text/html": [
       "<div>\n",
       "<style scoped>\n",
       "    .dataframe tbody tr th:only-of-type {\n",
       "        vertical-align: middle;\n",
       "    }\n",
       "\n",
       "    .dataframe tbody tr th {\n",
       "        vertical-align: top;\n",
       "    }\n",
       "\n",
       "    .dataframe thead th {\n",
       "        text-align: right;\n",
       "    }\n",
       "</style>\n",
       "<table border=\"1\" class=\"dataframe\">\n",
       "  <thead>\n",
       "    <tr style=\"text-align: right;\">\n",
       "      <th></th>\n",
       "      <th>Name</th>\n",
       "      <th>Year</th>\n",
       "      <th>Owner_Type</th>\n",
       "      <th>Seats</th>\n",
       "      <th>Kilometers_Driven</th>\n",
       "      <th>Fuel_Type</th>\n",
       "      <th>Transmission</th>\n",
       "      <th>Mileage</th>\n",
       "      <th>Engine</th>\n",
       "      <th>Power</th>\n",
       "      <th>Price</th>\n",
       "      <th>IsTrain</th>\n",
       "    </tr>\n",
       "  </thead>\n",
       "  <tbody>\n",
       "    <tr>\n",
       "      <th>1</th>\n",
       "      <td>Hyundai Creta 1.6 CRDi SX Option</td>\n",
       "      <td>2015</td>\n",
       "      <td>First</td>\n",
       "      <td>5</td>\n",
       "      <td>41000.0</td>\n",
       "      <td>Diesel</td>\n",
       "      <td>Manual</td>\n",
       "      <td>19.67</td>\n",
       "      <td>1582.0</td>\n",
       "      <td>126.20</td>\n",
       "      <td>12.5</td>\n",
       "      <td>1</td>\n",
       "    </tr>\n",
       "    <tr>\n",
       "      <th>2</th>\n",
       "      <td>Honda Jazz V</td>\n",
       "      <td>2011</td>\n",
       "      <td>First</td>\n",
       "      <td>5</td>\n",
       "      <td>46000.0</td>\n",
       "      <td>Petrol</td>\n",
       "      <td>Manual</td>\n",
       "      <td>18.20</td>\n",
       "      <td>1199.0</td>\n",
       "      <td>88.70</td>\n",
       "      <td>4.5</td>\n",
       "      <td>1</td>\n",
       "    </tr>\n",
       "    <tr>\n",
       "      <th>3</th>\n",
       "      <td>Suzuki Ertiga VDI</td>\n",
       "      <td>2012</td>\n",
       "      <td>First</td>\n",
       "      <td>7</td>\n",
       "      <td>87000.0</td>\n",
       "      <td>Diesel</td>\n",
       "      <td>Manual</td>\n",
       "      <td>20.77</td>\n",
       "      <td>1248.0</td>\n",
       "      <td>88.76</td>\n",
       "      <td>6.0</td>\n",
       "      <td>1</td>\n",
       "    </tr>\n",
       "    <tr>\n",
       "      <th>4</th>\n",
       "      <td>Audi A4 New 2.0 TDI Multitronic</td>\n",
       "      <td>2013</td>\n",
       "      <td>Second</td>\n",
       "      <td>5</td>\n",
       "      <td>40670.0</td>\n",
       "      <td>Diesel</td>\n",
       "      <td>Automatic</td>\n",
       "      <td>15.20</td>\n",
       "      <td>1968.0</td>\n",
       "      <td>140.80</td>\n",
       "      <td>17.74</td>\n",
       "      <td>1</td>\n",
       "    </tr>\n",
       "    <tr>\n",
       "      <th>6</th>\n",
       "      <td>Nissan Micra Diesel XV</td>\n",
       "      <td>2013</td>\n",
       "      <td>First</td>\n",
       "      <td>5</td>\n",
       "      <td>86999.0</td>\n",
       "      <td>Diesel</td>\n",
       "      <td>Manual</td>\n",
       "      <td>23.08</td>\n",
       "      <td>1461.0</td>\n",
       "      <td>63.10</td>\n",
       "      <td>3.5</td>\n",
       "      <td>1</td>\n",
       "    </tr>\n",
       "  </tbody>\n",
       "</table>\n",
       "</div>"
      ],
      "text/plain": [
       "                               Name  Year Owner_Type  Seats  \\\n",
       "1  Hyundai Creta 1.6 CRDi SX Option  2015      First      5   \n",
       "2                      Honda Jazz V  2011      First      5   \n",
       "3                 Suzuki Ertiga VDI  2012      First      7   \n",
       "4   Audi A4 New 2.0 TDI Multitronic  2013     Second      5   \n",
       "6            Nissan Micra Diesel XV  2013      First      5   \n",
       "\n",
       "   Kilometers_Driven Fuel_Type Transmission  Mileage  Engine   Power  Price  \\\n",
       "1            41000.0    Diesel       Manual    19.67  1582.0  126.20   12.5   \n",
       "2            46000.0    Petrol       Manual    18.20  1199.0   88.70    4.5   \n",
       "3            87000.0    Diesel       Manual    20.77  1248.0   88.76    6.0   \n",
       "4            40670.0    Diesel    Automatic    15.20  1968.0  140.80  17.74   \n",
       "6            86999.0    Diesel       Manual    23.08  1461.0   63.10    3.5   \n",
       "\n",
       "   IsTrain  \n",
       "1        1  \n",
       "2        1  \n",
       "3        1  \n",
       "4        1  \n",
       "6        1  "
      ]
     },
     "execution_count": 17,
     "metadata": {},
     "output_type": "execute_result"
    }
   ],
   "source": [
    "data[\"Engine\"] = [str(x).replace(\" CC\",\"\") for x in data[\"Engine\"]]\n",
    "data[\"Power\"] = [str(x).replace(\" bhp\",\"\")for x in data[\"Power\"]]\n",
    "data = data[data[\"Power\"] != 'null']\n",
    "data[\"Mileage\"] = [str(x).replace(\" kmpl\",\"\")for x in data[\"Mileage\"]]\n",
    "\n",
    "data.replace('', np.nan, inplace=True)\n",
    "data.dropna(inplace=True)\n",
    "\n",
    "# Je converti les types de mes features\n",
    "data[\"Engine\"] = data[\"Engine\"].astype(float)\n",
    "data[\"Power\"] = data[\"Power\"].astype(float)\n",
    "data[\"Mileage\"] = data[\"Mileage\"].astype(float)\n",
    "data[\"Kilometers_Driven\"] = data[\"Kilometers_Driven\"].astype(float)\n",
    "\n",
    "data.head()"
   ]
  },
  {
   "cell_type": "markdown",
   "metadata": {},
   "source": [
    "##### *Je sépare mon jeu de données en 2 :* **TRAIN & TEST**\n",
    "##### *La différence vient de la feature IsTrain : \n",
    "\n",
    "##### *1 --> Jeu de TRAIN*\n",
    "##### *0 --> Jeu de TEST*"
   ]
  },
  {
   "cell_type": "code",
   "execution_count": 18,
   "metadata": {},
   "outputs": [
    {
     "data": {
      "text/plain": [
       "1    5807\n",
       "0    1193\n",
       "Name: IsTrain, dtype: int64"
      ]
     },
     "execution_count": 18,
     "metadata": {},
     "output_type": "execute_result"
    }
   ],
   "source": [
    "data[\"IsTrain\"].value_counts()"
   ]
  },
  {
   "cell_type": "code",
   "execution_count": 19,
   "metadata": {},
   "outputs": [
    {
     "name": "stdout",
     "output_type": "stream",
     "text": [
      "TRAIN shape : (5807, 11)\n",
      "TEST shape : (1193, 11)\n"
     ]
    }
   ],
   "source": [
    "train, test = data[data[\"IsTrain\"].eq(1)], data[data[\"IsTrain\"].eq(0)]\n",
    "\n",
    "train.drop(\"IsTrain\", axis=1, inplace=True)\n",
    "train.reset_index(inplace=True, drop=True)\n",
    "test.drop(\"IsTrain\", axis=1, inplace=True)\n",
    "test.reset_index(inplace=True, drop=True)\n",
    "\n",
    "print(f\"TRAIN shape : {train.shape}\\nTEST shape : {test.shape}\")"
   ]
  },
  {
   "cell_type": "markdown",
   "metadata": {},
   "source": [
    "## **Enregistrement des fichiers TRAIN et TEST** 💾"
   ]
  },
  {
   "cell_type": "code",
   "execution_count": 20,
   "metadata": {},
   "outputs": [],
   "source": [
    "train.to_csv(\"../../data/curated/train.csv\")\n",
    "test.to_csv(\"../../data/curated/test.csv\")"
   ]
  }
 ],
 "metadata": {
  "interpreter": {
   "hash": "6913b1b3e9887c0ed628040887d54c29980616f46a2c51272de2dcf9d611bf53"
  },
  "kernelspec": {
   "display_name": "Python 3",
   "language": "python",
   "name": "python3"
  },
  "language_info": {
   "codemirror_mode": {
    "name": "ipython",
    "version": 3
   },
   "file_extension": ".py",
   "mimetype": "text/x-python",
   "name": "python",
   "nbconvert_exporter": "python",
   "pygments_lexer": "ipython3",
   "version": "3.9.1"
  }
 },
 "nbformat": 4,
 "nbformat_minor": 2
}
